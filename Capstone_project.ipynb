{
 "cells": [
  {
   "cell_type": "code",
   "execution_count": 1,
   "metadata": {},
   "outputs": [],
   "source": [
    "#Importing all the required libraries.\n",
    "\n",
    "import numpy as np\n",
    "import pandas as pd\n",
    "import matplotlib.pyplot as plt\n",
    "%matplotlib inline\n",
    "import requests\n",
    "import folium \n",
    "import seaborn as sns\n",
    "import matplotlib.cm as cm\n",
    "import matplotlib.colors as colors\n",
    "from sklearn.cluster import KMeans"
   ]
  },
  {
   "cell_type": "code",
   "execution_count": 2,
   "metadata": {},
   "outputs": [],
   "source": [
    "df = pd.read_csv('data/complete_dataset.csv')"
   ]
  },
  {
   "cell_type": "code",
   "execution_count": 3,
   "metadata": {},
   "outputs": [
    {
     "data": {
      "text/html": [
       "<div>\n",
       "<style scoped>\n",
       "    .dataframe tbody tr th:only-of-type {\n",
       "        vertical-align: middle;\n",
       "    }\n",
       "\n",
       "    .dataframe tbody tr th {\n",
       "        vertical-align: top;\n",
       "    }\n",
       "\n",
       "    .dataframe thead th {\n",
       "        text-align: right;\n",
       "    }\n",
       "</style>\n",
       "<table border=\"1\" class=\"dataframe\">\n",
       "  <thead>\n",
       "    <tr style=\"text-align: right;\">\n",
       "      <th></th>\n",
       "      <th>Unnamed: 0</th>\n",
       "      <th>Borough</th>\n",
       "      <th>Neighborhoods</th>\n",
       "      <th>Latitude</th>\n",
       "      <th>Longitude</th>\n",
       "      <th>Population</th>\n",
       "      <th>City</th>\n",
       "      <th>AverageIncome</th>\n",
       "    </tr>\n",
       "  </thead>\n",
       "  <tbody>\n",
       "    <tr>\n",
       "      <td>0</td>\n",
       "      <td>0</td>\n",
       "      <td>Central</td>\n",
       "      <td>Cantonment area</td>\n",
       "      <td>12.972442</td>\n",
       "      <td>77.580643</td>\n",
       "      <td>866377</td>\n",
       "      <td>Bangalore</td>\n",
       "      <td>18944.099792</td>\n",
       "    </tr>\n",
       "    <tr>\n",
       "      <td>1</td>\n",
       "      <td>1</td>\n",
       "      <td>Central</td>\n",
       "      <td>Domlur</td>\n",
       "      <td>12.960992</td>\n",
       "      <td>77.638726</td>\n",
       "      <td>743186</td>\n",
       "      <td>Bangalore</td>\n",
       "      <td>56837.022198</td>\n",
       "    </tr>\n",
       "    <tr>\n",
       "      <td>2</td>\n",
       "      <td>2</td>\n",
       "      <td>Central</td>\n",
       "      <td>Indiranagar</td>\n",
       "      <td>12.971891</td>\n",
       "      <td>77.641151</td>\n",
       "      <td>474289</td>\n",
       "      <td>Bangalore</td>\n",
       "      <td>41991.817435</td>\n",
       "    </tr>\n",
       "    <tr>\n",
       "      <td>3</td>\n",
       "      <td>3</td>\n",
       "      <td>Central</td>\n",
       "      <td>Jeevanbheemanagar</td>\n",
       "      <td>12.962900</td>\n",
       "      <td>77.659500</td>\n",
       "      <td>527874</td>\n",
       "      <td>Bangalore</td>\n",
       "      <td>6667.447632</td>\n",
       "    </tr>\n",
       "    <tr>\n",
       "      <td>4</td>\n",
       "      <td>4</td>\n",
       "      <td>Central</td>\n",
       "      <td>Malleswaram</td>\n",
       "      <td>13.003100</td>\n",
       "      <td>77.564300</td>\n",
       "      <td>893629</td>\n",
       "      <td>Bangalore</td>\n",
       "      <td>53270.063892</td>\n",
       "    </tr>\n",
       "    <tr>\n",
       "      <td>5</td>\n",
       "      <td>5</td>\n",
       "      <td>Central</td>\n",
       "      <td>Pete area</td>\n",
       "      <td>12.962700</td>\n",
       "      <td>77.575800</td>\n",
       "      <td>730999</td>\n",
       "      <td>Bangalore</td>\n",
       "      <td>50712.430215</td>\n",
       "    </tr>\n",
       "    <tr>\n",
       "      <td>6</td>\n",
       "      <td>6</td>\n",
       "      <td>Central</td>\n",
       "      <td>Rajajinagar</td>\n",
       "      <td>12.990100</td>\n",
       "      <td>77.552500</td>\n",
       "      <td>981362</td>\n",
       "      <td>Bangalore</td>\n",
       "      <td>60967.535874</td>\n",
       "    </tr>\n",
       "    <tr>\n",
       "      <td>7</td>\n",
       "      <td>7</td>\n",
       "      <td>Central</td>\n",
       "      <td>Sadashivanagar</td>\n",
       "      <td>13.006800</td>\n",
       "      <td>77.581300</td>\n",
       "      <td>662625</td>\n",
       "      <td>Bangalore</td>\n",
       "      <td>59943.541564</td>\n",
       "    </tr>\n",
       "    <tr>\n",
       "      <td>8</td>\n",
       "      <td>8</td>\n",
       "      <td>Central</td>\n",
       "      <td>Seshadripuram</td>\n",
       "      <td>12.993500</td>\n",
       "      <td>77.578700</td>\n",
       "      <td>396862</td>\n",
       "      <td>Bangalore</td>\n",
       "      <td>58407.090338</td>\n",
       "    </tr>\n",
       "    <tr>\n",
       "      <td>9</td>\n",
       "      <td>9</td>\n",
       "      <td>Central</td>\n",
       "      <td>Shivajinagar</td>\n",
       "      <td>12.985700</td>\n",
       "      <td>77.605700</td>\n",
       "      <td>77836</td>\n",
       "      <td>Bangalore</td>\n",
       "      <td>55850.962099</td>\n",
       "    </tr>\n",
       "  </tbody>\n",
       "</table>\n",
       "</div>"
      ],
      "text/plain": [
       "   Unnamed: 0  Borough      Neighborhoods   Latitude  Longitude  Population  \\\n",
       "0           0  Central    Cantonment area  12.972442  77.580643      866377   \n",
       "1           1  Central             Domlur  12.960992  77.638726      743186   \n",
       "2           2  Central        Indiranagar  12.971891  77.641151      474289   \n",
       "3           3  Central  Jeevanbheemanagar  12.962900  77.659500      527874   \n",
       "4           4  Central        Malleswaram  13.003100  77.564300      893629   \n",
       "5           5  Central          Pete area  12.962700  77.575800      730999   \n",
       "6           6  Central        Rajajinagar  12.990100  77.552500      981362   \n",
       "7           7  Central     Sadashivanagar  13.006800  77.581300      662625   \n",
       "8           8  Central      Seshadripuram  12.993500  77.578700      396862   \n",
       "9           9  Central       Shivajinagar  12.985700  77.605700       77836   \n",
       "\n",
       "        City  AverageIncome  \n",
       "0  Bangalore   18944.099792  \n",
       "1  Bangalore   56837.022198  \n",
       "2  Bangalore   41991.817435  \n",
       "3  Bangalore    6667.447632  \n",
       "4  Bangalore   53270.063892  \n",
       "5  Bangalore   50712.430215  \n",
       "6  Bangalore   60967.535874  \n",
       "7  Bangalore   59943.541564  \n",
       "8  Bangalore   58407.090338  \n",
       "9  Bangalore   55850.962099  "
      ]
     },
     "execution_count": 3,
     "metadata": {},
     "output_type": "execute_result"
    }
   ],
   "source": [
    "df.head(10)"
   ]
  },
  {
   "cell_type": "code",
   "execution_count": 4,
   "metadata": {},
   "outputs": [],
   "source": [
    "df.drop('Unnamed: 0',axis=1,inplace=True)"
   ]
  },
  {
   "cell_type": "markdown",
   "metadata": {},
   "source": [
    "Creating 'Population' and 'Income' dataframe from the main dataframe"
   ]
  },
  {
   "cell_type": "code",
   "execution_count": 5,
   "metadata": {},
   "outputs": [],
   "source": [
    "bangalore_population = pd.DataFrame(df[['Borough','Neighborhoods','Population']])"
   ]
  },
  {
   "cell_type": "code",
   "execution_count": 6,
   "metadata": {},
   "outputs": [
    {
     "data": {
      "text/html": [
       "<div>\n",
       "<style scoped>\n",
       "    .dataframe tbody tr th:only-of-type {\n",
       "        vertical-align: middle;\n",
       "    }\n",
       "\n",
       "    .dataframe tbody tr th {\n",
       "        vertical-align: top;\n",
       "    }\n",
       "\n",
       "    .dataframe thead th {\n",
       "        text-align: right;\n",
       "    }\n",
       "</style>\n",
       "<table border=\"1\" class=\"dataframe\">\n",
       "  <thead>\n",
       "    <tr style=\"text-align: right;\">\n",
       "      <th></th>\n",
       "      <th>Borough</th>\n",
       "      <th>Neighborhoods</th>\n",
       "      <th>Population</th>\n",
       "    </tr>\n",
       "  </thead>\n",
       "  <tbody>\n",
       "    <tr>\n",
       "      <td>0</td>\n",
       "      <td>Central</td>\n",
       "      <td>Cantonment area</td>\n",
       "      <td>866377</td>\n",
       "    </tr>\n",
       "    <tr>\n",
       "      <td>1</td>\n",
       "      <td>Central</td>\n",
       "      <td>Domlur</td>\n",
       "      <td>743186</td>\n",
       "    </tr>\n",
       "    <tr>\n",
       "      <td>2</td>\n",
       "      <td>Central</td>\n",
       "      <td>Indiranagar</td>\n",
       "      <td>474289</td>\n",
       "    </tr>\n",
       "    <tr>\n",
       "      <td>3</td>\n",
       "      <td>Central</td>\n",
       "      <td>Jeevanbheemanagar</td>\n",
       "      <td>527874</td>\n",
       "    </tr>\n",
       "    <tr>\n",
       "      <td>4</td>\n",
       "      <td>Central</td>\n",
       "      <td>Malleswaram</td>\n",
       "      <td>893629</td>\n",
       "    </tr>\n",
       "  </tbody>\n",
       "</table>\n",
       "</div>"
      ],
      "text/plain": [
       "   Borough      Neighborhoods  Population\n",
       "0  Central    Cantonment area      866377\n",
       "1  Central             Domlur      743186\n",
       "2  Central        Indiranagar      474289\n",
       "3  Central  Jeevanbheemanagar      527874\n",
       "4  Central        Malleswaram      893629"
      ]
     },
     "execution_count": 6,
     "metadata": {},
     "output_type": "execute_result"
    }
   ],
   "source": [
    "bangalore_population.head()"
   ]
  },
  {
   "cell_type": "code",
   "execution_count": 7,
   "metadata": {},
   "outputs": [],
   "source": [
    "bangalore_population.to_csv('data/population_dataset.csv')"
   ]
  },
  {
   "cell_type": "code",
   "execution_count": 8,
   "metadata": {},
   "outputs": [],
   "source": [
    "bangalore_income = pd.DataFrame(df[['Borough','Neighborhoods','AverageIncome']])"
   ]
  },
  {
   "cell_type": "code",
   "execution_count": 9,
   "metadata": {},
   "outputs": [
    {
     "data": {
      "text/html": [
       "<div>\n",
       "<style scoped>\n",
       "    .dataframe tbody tr th:only-of-type {\n",
       "        vertical-align: middle;\n",
       "    }\n",
       "\n",
       "    .dataframe tbody tr th {\n",
       "        vertical-align: top;\n",
       "    }\n",
       "\n",
       "    .dataframe thead th {\n",
       "        text-align: right;\n",
       "    }\n",
       "</style>\n",
       "<table border=\"1\" class=\"dataframe\">\n",
       "  <thead>\n",
       "    <tr style=\"text-align: right;\">\n",
       "      <th></th>\n",
       "      <th>Borough</th>\n",
       "      <th>Neighborhoods</th>\n",
       "      <th>AverageIncome</th>\n",
       "    </tr>\n",
       "  </thead>\n",
       "  <tbody>\n",
       "    <tr>\n",
       "      <td>0</td>\n",
       "      <td>Central</td>\n",
       "      <td>Cantonment area</td>\n",
       "      <td>18944.099792</td>\n",
       "    </tr>\n",
       "    <tr>\n",
       "      <td>1</td>\n",
       "      <td>Central</td>\n",
       "      <td>Domlur</td>\n",
       "      <td>56837.022198</td>\n",
       "    </tr>\n",
       "    <tr>\n",
       "      <td>2</td>\n",
       "      <td>Central</td>\n",
       "      <td>Indiranagar</td>\n",
       "      <td>41991.817435</td>\n",
       "    </tr>\n",
       "    <tr>\n",
       "      <td>3</td>\n",
       "      <td>Central</td>\n",
       "      <td>Jeevanbheemanagar</td>\n",
       "      <td>6667.447632</td>\n",
       "    </tr>\n",
       "    <tr>\n",
       "      <td>4</td>\n",
       "      <td>Central</td>\n",
       "      <td>Malleswaram</td>\n",
       "      <td>53270.063892</td>\n",
       "    </tr>\n",
       "  </tbody>\n",
       "</table>\n",
       "</div>"
      ],
      "text/plain": [
       "   Borough      Neighborhoods  AverageIncome\n",
       "0  Central    Cantonment area   18944.099792\n",
       "1  Central             Domlur   56837.022198\n",
       "2  Central        Indiranagar   41991.817435\n",
       "3  Central  Jeevanbheemanagar    6667.447632\n",
       "4  Central        Malleswaram   53270.063892"
      ]
     },
     "execution_count": 9,
     "metadata": {},
     "output_type": "execute_result"
    }
   ],
   "source": [
    "bangalore_income.head()"
   ]
  },
  {
   "cell_type": "code",
   "execution_count": 10,
   "metadata": {},
   "outputs": [],
   "source": [
    "bangalore_income.to_csv('data/income_dataset.csv')"
   ]
  },
  {
   "cell_type": "code",
   "execution_count": 11,
   "metadata": {},
   "outputs": [
    {
     "name": "stdout",
     "output_type": "stream",
     "text": [
      "Latitude and Longitude of Bangalore are :  12.962339620312497 77.60175294687502\n"
     ]
    }
   ],
   "source": [
    "bangalore_latitude = df['Latitude'].mean()\n",
    "bangalore_longitude = df['Longitude'].mean()\n",
    "print(\"Latitude and Longitude of Bangalore are : \",bangalore_latitude,bangalore_longitude)"
   ]
  },
  {
   "cell_type": "code",
   "execution_count": 12,
   "metadata": {},
   "outputs": [],
   "source": [
    "CLIENT_ID = '0NRHSFQX5TLHOVREZ5PIFOYVTLOWKMRWFH1HJDG5AR21FW2R'\n",
    "CLIENT_SECRET = 'TRA3A35DS2EF3RHWXHSVDZLSCOOCF2QIRHW3DQ5VIXPDFIER'\n",
    "VERSION = '20180606'\n",
    "LIMIT = 150"
   ]
  },
  {
   "cell_type": "code",
   "execution_count": 13,
   "metadata": {},
   "outputs": [],
   "source": [
    "unique_boroughs_of_bangalore = df['Borough'].unique().tolist()"
   ]
  },
  {
   "cell_type": "code",
   "execution_count": 14,
   "metadata": {},
   "outputs": [
    {
     "data": {
      "text/plain": [
       "['Central',\n",
       " 'Eastern',\n",
       " 'NorthEastern',\n",
       " 'Northern',\n",
       " 'SouthEastern',\n",
       " 'Southern',\n",
       " 'SouthernSuburbs',\n",
       " 'Western']"
      ]
     },
     "execution_count": 14,
     "metadata": {},
     "output_type": "execute_result"
    }
   ],
   "source": [
    "unique_boroughs_of_bangalore"
   ]
  },
  {
   "cell_type": "code",
   "execution_count": 15,
   "metadata": {},
   "outputs": [],
   "source": [
    "borough_colors ={}\n",
    "for i in unique_boroughs_of_bangalore:\n",
    "    borough_colors[i] = '#%02X%02X%02X' % tuple(np.random.choice(range(256),size=3))"
   ]
  },
  {
   "cell_type": "code",
   "execution_count": 16,
   "metadata": {},
   "outputs": [
    {
     "data": {
      "text/plain": [
       "{'Central': '#4AC36B',\n",
       " 'Eastern': '#A2F5B1',\n",
       " 'NorthEastern': '#868A56',\n",
       " 'Northern': '#0DD8DA',\n",
       " 'SouthEastern': '#492C45',\n",
       " 'Southern': '#AE0B66',\n",
       " 'SouthernSuburbs': '#14F1CE',\n",
       " 'Western': '#72FCBA'}"
      ]
     },
     "execution_count": 16,
     "metadata": {},
     "output_type": "execute_result"
    }
   ],
   "source": [
    "borough_colors"
   ]
  },
  {
   "cell_type": "code",
   "execution_count": 17,
   "metadata": {},
   "outputs": [],
   "source": [
    "bangalore_map = folium.Map(location=[bangalore_latitude,bangalore_longitude],zoom_start=12,control_scale=True)"
   ]
  },
  {
   "cell_type": "code",
   "execution_count": 18,
   "metadata": {},
   "outputs": [],
   "source": [
    "for lat,lng,boro,nei in zip(df['Latitude'],\n",
    "                           df['Longitude'],\n",
    "                           df['Borough'],\n",
    "                           df['Neighborhoods']):\n",
    "    label_text = boro + ' - ' + nei\n",
    "    label = folium.Popup(label_text,parse_html=True)\n",
    "    folium.CircleMarker(\n",
    "    [lat,lng],\n",
    "    tooltip = label_text,\n",
    "    radius = 4,\n",
    "    popup = label,\n",
    "    color=borough_colors[boro],\n",
    "    fill=True,\n",
    "    fill_color = borough_colors[boro],\n",
    "    fill_opacity=0.7).add_to(bangalore_map)"
   ]
  },
  {
   "cell_type": "code",
   "execution_count": 19,
   "metadata": {},
   "outputs": [
    {
     "data": {
      "text/html": [
       "<div style=\"width:100%;\"><div style=\"position:relative;width:100%;height:0;padding-bottom:60%;\"><span style=\"color:#565656\">Make this Notebook Trusted to load map: File -> Trust Notebook</span><iframe src=\"about:blank\" style=\"position:absolute;width:100%;height:100%;left:0;top:0;border:none !important;\" data-html=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 onload=\"this.contentDocument.open();this.contentDocument.write(atob(this.getAttribute('data-html')));this.contentDocument.close();\" allowfullscreen webkitallowfullscreen mozallowfullscreen></iframe></div></div>"
      ],
      "text/plain": [
       "<folium.folium.Map at 0x25aaf4f8288>"
      ]
     },
     "execution_count": 19,
     "metadata": {},
     "output_type": "execute_result"
    }
   ],
   "source": [
    "bangalore_map"
   ]
  },
  {
   "cell_type": "markdown",
   "metadata": {},
   "source": [
    "# Exploring bangalore Neighborhoods using FourSquare API"
   ]
  },
  {
   "cell_type": "code",
   "execution_count": 20,
   "metadata": {},
   "outputs": [],
   "source": [
    "def getNearbyVenues(names, boro, latitudes, longitudes, radius=500):\n",
    "    \n",
    "    venues_list=[]\n",
    "    for name, boro, lat, lng in zip(names, boro, latitudes, longitudes):\n",
    "        print(\"Fetching venues for : \",name)            \n",
    "        # create the API request URL\n",
    "        url = 'https://api.foursquare.com/v2/venues/explore?&client_id={}&client_secret={}&v={}&ll={},{}&radius={}&limit={}'.format(\n",
    "            CLIENT_ID, \n",
    "            CLIENT_SECRET, \n",
    "            VERSION, \n",
    "            lat, \n",
    "            lng, \n",
    "            radius, \n",
    "            LIMIT)\n",
    "            \n",
    "        # make the GET request\n",
    "        results = requests.get(url).json()[\"response\"]['groups'][0]['items']\n",
    "        \n",
    "        # return only relevant information for each nearby venue\n",
    "        venues_list.append([(\n",
    "            name, \n",
    "            boro,\n",
    "            lat, \n",
    "            lng, \n",
    "            v['venue']['name'], \n",
    "            v['venue']['location']['lat'], \n",
    "            v['venue']['location']['lng'],  \n",
    "            v['venue']['categories'][0]['name']) for v in results])\n",
    "\n",
    "    nearby_venues = pd.DataFrame([item for venue_list in venues_list for item in venue_list])\n",
    "    nearby_venues.columns = ['Neighborhood',\n",
    "                             'Borough',\n",
    "                             'Neighborhood Latitude', \n",
    "                             'Neighborhood Longitude', \n",
    "                             'Venue', \n",
    "                             'Venue Latitude', \n",
    "                             'Venue Longitude', \n",
    "                             'Venue Category']\n",
    "    \n",
    "    return(nearby_venues)"
   ]
  },
  {
   "cell_type": "code",
   "execution_count": 21,
   "metadata": {
    "scrolled": false
   },
   "outputs": [
    {
     "name": "stdout",
     "output_type": "stream",
     "text": [
      "Fetching venues for :  Cantonment area\n",
      "Fetching venues for :  Domlur\n",
      "Fetching venues for :  Indiranagar\n",
      "Fetching venues for :  Jeevanbheemanagar\n",
      "Fetching venues for :  Malleswaram\n",
      "Fetching venues for :  Pete area\n",
      "Fetching venues for :  Rajajinagar\n",
      "Fetching venues for :  Sadashivanagar\n"
     ]
    },
    {
     "ename": "SSLError",
     "evalue": "HTTPSConnectionPool(host='api.foursquare.com', port=443): Max retries exceeded with url: /v2/venues/explore?&client_id=0NRHSFQX5TLHOVREZ5PIFOYVTLOWKMRWFH1HJDG5AR21FW2R&client_secret=TRA3A35DS2EF3RHWXHSVDZLSCOOCF2QIRHW3DQ5VIXPDFIER&v=20180606&ll=13.0068,77.5813&radius=500&limit=150 (Caused by SSLError(SSLError(\"bad handshake: SysCallError(10054, 'WSAECONNRESET')\")))",
     "output_type": "error",
     "traceback": [
      "\u001b[1;31m---------------------------------------------------------------------------\u001b[0m",
      "\u001b[1;31mSysCallError\u001b[0m                              Traceback (most recent call last)",
      "\u001b[1;32m~\\Anaconda3\\lib\\site-packages\\urllib3\\contrib\\pyopenssl.py\u001b[0m in \u001b[0;36mwrap_socket\u001b[1;34m(self, sock, server_side, do_handshake_on_connect, suppress_ragged_eofs, server_hostname)\u001b[0m\n\u001b[0;32m    455\u001b[0m             \u001b[1;32mtry\u001b[0m\u001b[1;33m:\u001b[0m\u001b[1;33m\u001b[0m\u001b[1;33m\u001b[0m\u001b[0m\n\u001b[1;32m--> 456\u001b[1;33m                 \u001b[0mcnx\u001b[0m\u001b[1;33m.\u001b[0m\u001b[0mdo_handshake\u001b[0m\u001b[1;33m(\u001b[0m\u001b[1;33m)\u001b[0m\u001b[1;33m\u001b[0m\u001b[1;33m\u001b[0m\u001b[0m\n\u001b[0m\u001b[0;32m    457\u001b[0m             \u001b[1;32mexcept\u001b[0m \u001b[0mOpenSSL\u001b[0m\u001b[1;33m.\u001b[0m\u001b[0mSSL\u001b[0m\u001b[1;33m.\u001b[0m\u001b[0mWantReadError\u001b[0m\u001b[1;33m:\u001b[0m\u001b[1;33m\u001b[0m\u001b[1;33m\u001b[0m\u001b[0m\n",
      "\u001b[1;32m~\\Anaconda3\\lib\\site-packages\\OpenSSL\\SSL.py\u001b[0m in \u001b[0;36mdo_handshake\u001b[1;34m(self)\u001b[0m\n\u001b[0;32m   1914\u001b[0m         \u001b[0mresult\u001b[0m \u001b[1;33m=\u001b[0m \u001b[0m_lib\u001b[0m\u001b[1;33m.\u001b[0m\u001b[0mSSL_do_handshake\u001b[0m\u001b[1;33m(\u001b[0m\u001b[0mself\u001b[0m\u001b[1;33m.\u001b[0m\u001b[0m_ssl\u001b[0m\u001b[1;33m)\u001b[0m\u001b[1;33m\u001b[0m\u001b[1;33m\u001b[0m\u001b[0m\n\u001b[1;32m-> 1915\u001b[1;33m         \u001b[0mself\u001b[0m\u001b[1;33m.\u001b[0m\u001b[0m_raise_ssl_error\u001b[0m\u001b[1;33m(\u001b[0m\u001b[0mself\u001b[0m\u001b[1;33m.\u001b[0m\u001b[0m_ssl\u001b[0m\u001b[1;33m,\u001b[0m \u001b[0mresult\u001b[0m\u001b[1;33m)\u001b[0m\u001b[1;33m\u001b[0m\u001b[1;33m\u001b[0m\u001b[0m\n\u001b[0m\u001b[0;32m   1916\u001b[0m \u001b[1;33m\u001b[0m\u001b[0m\n",
      "\u001b[1;32m~\\Anaconda3\\lib\\site-packages\\OpenSSL\\SSL.py\u001b[0m in \u001b[0;36m_raise_ssl_error\u001b[1;34m(self, ssl, result)\u001b[0m\n\u001b[0;32m   1638\u001b[0m                     \u001b[1;32mif\u001b[0m \u001b[0merrno\u001b[0m \u001b[1;33m!=\u001b[0m \u001b[1;36m0\u001b[0m\u001b[1;33m:\u001b[0m\u001b[1;33m\u001b[0m\u001b[1;33m\u001b[0m\u001b[0m\n\u001b[1;32m-> 1639\u001b[1;33m                         \u001b[1;32mraise\u001b[0m \u001b[0mSysCallError\u001b[0m\u001b[1;33m(\u001b[0m\u001b[0merrno\u001b[0m\u001b[1;33m,\u001b[0m \u001b[0merrorcode\u001b[0m\u001b[1;33m.\u001b[0m\u001b[0mget\u001b[0m\u001b[1;33m(\u001b[0m\u001b[0merrno\u001b[0m\u001b[1;33m)\u001b[0m\u001b[1;33m)\u001b[0m\u001b[1;33m\u001b[0m\u001b[1;33m\u001b[0m\u001b[0m\n\u001b[0m\u001b[0;32m   1640\u001b[0m                 \u001b[1;32mraise\u001b[0m \u001b[0mSysCallError\u001b[0m\u001b[1;33m(\u001b[0m\u001b[1;33m-\u001b[0m\u001b[1;36m1\u001b[0m\u001b[1;33m,\u001b[0m \u001b[1;34m\"Unexpected EOF\"\u001b[0m\u001b[1;33m)\u001b[0m\u001b[1;33m\u001b[0m\u001b[1;33m\u001b[0m\u001b[0m\n",
      "\u001b[1;31mSysCallError\u001b[0m: (10054, 'WSAECONNRESET')",
      "\nDuring handling of the above exception, another exception occurred:\n",
      "\u001b[1;31mSSLError\u001b[0m                                  Traceback (most recent call last)",
      "\u001b[1;32m~\\Anaconda3\\lib\\site-packages\\urllib3\\connectionpool.py\u001b[0m in \u001b[0;36murlopen\u001b[1;34m(self, method, url, body, headers, retries, redirect, assert_same_host, timeout, pool_timeout, release_conn, chunked, body_pos, **response_kw)\u001b[0m\n\u001b[0;32m    599\u001b[0m                                                   \u001b[0mbody\u001b[0m\u001b[1;33m=\u001b[0m\u001b[0mbody\u001b[0m\u001b[1;33m,\u001b[0m \u001b[0mheaders\u001b[0m\u001b[1;33m=\u001b[0m\u001b[0mheaders\u001b[0m\u001b[1;33m,\u001b[0m\u001b[1;33m\u001b[0m\u001b[1;33m\u001b[0m\u001b[0m\n\u001b[1;32m--> 600\u001b[1;33m                                                   chunked=chunked)\n\u001b[0m\u001b[0;32m    601\u001b[0m \u001b[1;33m\u001b[0m\u001b[0m\n",
      "\u001b[1;32m~\\Anaconda3\\lib\\site-packages\\urllib3\\connectionpool.py\u001b[0m in \u001b[0;36m_make_request\u001b[1;34m(self, conn, method, url, timeout, chunked, **httplib_request_kw)\u001b[0m\n\u001b[0;32m    342\u001b[0m         \u001b[1;32mtry\u001b[0m\u001b[1;33m:\u001b[0m\u001b[1;33m\u001b[0m\u001b[1;33m\u001b[0m\u001b[0m\n\u001b[1;32m--> 343\u001b[1;33m             \u001b[0mself\u001b[0m\u001b[1;33m.\u001b[0m\u001b[0m_validate_conn\u001b[0m\u001b[1;33m(\u001b[0m\u001b[0mconn\u001b[0m\u001b[1;33m)\u001b[0m\u001b[1;33m\u001b[0m\u001b[1;33m\u001b[0m\u001b[0m\n\u001b[0m\u001b[0;32m    344\u001b[0m         \u001b[1;32mexcept\u001b[0m \u001b[1;33m(\u001b[0m\u001b[0mSocketTimeout\u001b[0m\u001b[1;33m,\u001b[0m \u001b[0mBaseSSLError\u001b[0m\u001b[1;33m)\u001b[0m \u001b[1;32mas\u001b[0m \u001b[0me\u001b[0m\u001b[1;33m:\u001b[0m\u001b[1;33m\u001b[0m\u001b[1;33m\u001b[0m\u001b[0m\n",
      "\u001b[1;32m~\\Anaconda3\\lib\\site-packages\\urllib3\\connectionpool.py\u001b[0m in \u001b[0;36m_validate_conn\u001b[1;34m(self, conn)\u001b[0m\n\u001b[0;32m    838\u001b[0m         \u001b[1;32mif\u001b[0m \u001b[1;32mnot\u001b[0m \u001b[0mgetattr\u001b[0m\u001b[1;33m(\u001b[0m\u001b[0mconn\u001b[0m\u001b[1;33m,\u001b[0m \u001b[1;34m'sock'\u001b[0m\u001b[1;33m,\u001b[0m \u001b[1;32mNone\u001b[0m\u001b[1;33m)\u001b[0m\u001b[1;33m:\u001b[0m  \u001b[1;31m# AppEngine might not have  `.sock`\u001b[0m\u001b[1;33m\u001b[0m\u001b[1;33m\u001b[0m\u001b[0m\n\u001b[1;32m--> 839\u001b[1;33m             \u001b[0mconn\u001b[0m\u001b[1;33m.\u001b[0m\u001b[0mconnect\u001b[0m\u001b[1;33m(\u001b[0m\u001b[1;33m)\u001b[0m\u001b[1;33m\u001b[0m\u001b[1;33m\u001b[0m\u001b[0m\n\u001b[0m\u001b[0;32m    840\u001b[0m \u001b[1;33m\u001b[0m\u001b[0m\n",
      "\u001b[1;32m~\\Anaconda3\\lib\\site-packages\\urllib3\\connection.py\u001b[0m in \u001b[0;36mconnect\u001b[1;34m(self)\u001b[0m\n\u001b[0;32m    343\u001b[0m             \u001b[0mserver_hostname\u001b[0m\u001b[1;33m=\u001b[0m\u001b[0mserver_hostname\u001b[0m\u001b[1;33m,\u001b[0m\u001b[1;33m\u001b[0m\u001b[1;33m\u001b[0m\u001b[0m\n\u001b[1;32m--> 344\u001b[1;33m             ssl_context=context)\n\u001b[0m\u001b[0;32m    345\u001b[0m \u001b[1;33m\u001b[0m\u001b[0m\n",
      "\u001b[1;32m~\\Anaconda3\\lib\\site-packages\\urllib3\\util\\ssl_.py\u001b[0m in \u001b[0;36mssl_wrap_socket\u001b[1;34m(sock, keyfile, certfile, cert_reqs, ca_certs, server_hostname, ssl_version, ciphers, ssl_context, ca_cert_dir)\u001b[0m\n\u001b[0;32m    346\u001b[0m         \u001b[1;32mif\u001b[0m \u001b[0mHAS_SNI\u001b[0m \u001b[1;32mand\u001b[0m \u001b[0mserver_hostname\u001b[0m \u001b[1;32mis\u001b[0m \u001b[1;32mnot\u001b[0m \u001b[1;32mNone\u001b[0m\u001b[1;33m:\u001b[0m\u001b[1;33m\u001b[0m\u001b[1;33m\u001b[0m\u001b[0m\n\u001b[1;32m--> 347\u001b[1;33m             \u001b[1;32mreturn\u001b[0m \u001b[0mcontext\u001b[0m\u001b[1;33m.\u001b[0m\u001b[0mwrap_socket\u001b[0m\u001b[1;33m(\u001b[0m\u001b[0msock\u001b[0m\u001b[1;33m,\u001b[0m \u001b[0mserver_hostname\u001b[0m\u001b[1;33m=\u001b[0m\u001b[0mserver_hostname\u001b[0m\u001b[1;33m)\u001b[0m\u001b[1;33m\u001b[0m\u001b[1;33m\u001b[0m\u001b[0m\n\u001b[0m\u001b[0;32m    348\u001b[0m \u001b[1;33m\u001b[0m\u001b[0m\n",
      "\u001b[1;32m~\\Anaconda3\\lib\\site-packages\\urllib3\\contrib\\pyopenssl.py\u001b[0m in \u001b[0;36mwrap_socket\u001b[1;34m(self, sock, server_side, do_handshake_on_connect, suppress_ragged_eofs, server_hostname)\u001b[0m\n\u001b[0;32m    461\u001b[0m             \u001b[1;32mexcept\u001b[0m \u001b[0mOpenSSL\u001b[0m\u001b[1;33m.\u001b[0m\u001b[0mSSL\u001b[0m\u001b[1;33m.\u001b[0m\u001b[0mError\u001b[0m \u001b[1;32mas\u001b[0m \u001b[0me\u001b[0m\u001b[1;33m:\u001b[0m\u001b[1;33m\u001b[0m\u001b[1;33m\u001b[0m\u001b[0m\n\u001b[1;32m--> 462\u001b[1;33m                 \u001b[1;32mraise\u001b[0m \u001b[0mssl\u001b[0m\u001b[1;33m.\u001b[0m\u001b[0mSSLError\u001b[0m\u001b[1;33m(\u001b[0m\u001b[1;34m'bad handshake: %r'\u001b[0m \u001b[1;33m%\u001b[0m \u001b[0me\u001b[0m\u001b[1;33m)\u001b[0m\u001b[1;33m\u001b[0m\u001b[1;33m\u001b[0m\u001b[0m\n\u001b[0m\u001b[0;32m    463\u001b[0m             \u001b[1;32mbreak\u001b[0m\u001b[1;33m\u001b[0m\u001b[1;33m\u001b[0m\u001b[0m\n",
      "\u001b[1;31mSSLError\u001b[0m: (\"bad handshake: SysCallError(10054, 'WSAECONNRESET')\",)",
      "\nDuring handling of the above exception, another exception occurred:\n",
      "\u001b[1;31mMaxRetryError\u001b[0m                             Traceback (most recent call last)",
      "\u001b[1;32m~\\Anaconda3\\lib\\site-packages\\requests\\adapters.py\u001b[0m in \u001b[0;36msend\u001b[1;34m(self, request, stream, timeout, verify, cert, proxies)\u001b[0m\n\u001b[0;32m    448\u001b[0m                     \u001b[0mretries\u001b[0m\u001b[1;33m=\u001b[0m\u001b[0mself\u001b[0m\u001b[1;33m.\u001b[0m\u001b[0mmax_retries\u001b[0m\u001b[1;33m,\u001b[0m\u001b[1;33m\u001b[0m\u001b[1;33m\u001b[0m\u001b[0m\n\u001b[1;32m--> 449\u001b[1;33m                     \u001b[0mtimeout\u001b[0m\u001b[1;33m=\u001b[0m\u001b[0mtimeout\u001b[0m\u001b[1;33m\u001b[0m\u001b[1;33m\u001b[0m\u001b[0m\n\u001b[0m\u001b[0;32m    450\u001b[0m                 )\n",
      "\u001b[1;32m~\\Anaconda3\\lib\\site-packages\\urllib3\\connectionpool.py\u001b[0m in \u001b[0;36murlopen\u001b[1;34m(self, method, url, body, headers, retries, redirect, assert_same_host, timeout, pool_timeout, release_conn, chunked, body_pos, **response_kw)\u001b[0m\n\u001b[0;32m    637\u001b[0m             retries = retries.increment(method, url, error=e, _pool=self,\n\u001b[1;32m--> 638\u001b[1;33m                                         _stacktrace=sys.exc_info()[2])\n\u001b[0m\u001b[0;32m    639\u001b[0m             \u001b[0mretries\u001b[0m\u001b[1;33m.\u001b[0m\u001b[0msleep\u001b[0m\u001b[1;33m(\u001b[0m\u001b[1;33m)\u001b[0m\u001b[1;33m\u001b[0m\u001b[1;33m\u001b[0m\u001b[0m\n",
      "\u001b[1;32m~\\Anaconda3\\lib\\site-packages\\urllib3\\util\\retry.py\u001b[0m in \u001b[0;36mincrement\u001b[1;34m(self, method, url, response, error, _pool, _stacktrace)\u001b[0m\n\u001b[0;32m    398\u001b[0m         \u001b[1;32mif\u001b[0m \u001b[0mnew_retry\u001b[0m\u001b[1;33m.\u001b[0m\u001b[0mis_exhausted\u001b[0m\u001b[1;33m(\u001b[0m\u001b[1;33m)\u001b[0m\u001b[1;33m:\u001b[0m\u001b[1;33m\u001b[0m\u001b[1;33m\u001b[0m\u001b[0m\n\u001b[1;32m--> 399\u001b[1;33m             \u001b[1;32mraise\u001b[0m \u001b[0mMaxRetryError\u001b[0m\u001b[1;33m(\u001b[0m\u001b[0m_pool\u001b[0m\u001b[1;33m,\u001b[0m \u001b[0murl\u001b[0m\u001b[1;33m,\u001b[0m \u001b[0merror\u001b[0m \u001b[1;32mor\u001b[0m \u001b[0mResponseError\u001b[0m\u001b[1;33m(\u001b[0m\u001b[0mcause\u001b[0m\u001b[1;33m)\u001b[0m\u001b[1;33m)\u001b[0m\u001b[1;33m\u001b[0m\u001b[1;33m\u001b[0m\u001b[0m\n\u001b[0m\u001b[0;32m    400\u001b[0m \u001b[1;33m\u001b[0m\u001b[0m\n",
      "\u001b[1;31mMaxRetryError\u001b[0m: HTTPSConnectionPool(host='api.foursquare.com', port=443): Max retries exceeded with url: /v2/venues/explore?&client_id=0NRHSFQX5TLHOVREZ5PIFOYVTLOWKMRWFH1HJDG5AR21FW2R&client_secret=TRA3A35DS2EF3RHWXHSVDZLSCOOCF2QIRHW3DQ5VIXPDFIER&v=20180606&ll=13.0068,77.5813&radius=500&limit=150 (Caused by SSLError(SSLError(\"bad handshake: SysCallError(10054, 'WSAECONNRESET')\")))",
      "\nDuring handling of the above exception, another exception occurred:\n",
      "\u001b[1;31mSSLError\u001b[0m                                  Traceback (most recent call last)",
      "\u001b[1;32m<ipython-input-21-1547425e6333>\u001b[0m in \u001b[0;36m<module>\u001b[1;34m\u001b[0m\n\u001b[1;32m----> 1\u001b[1;33m \u001b[0mbangalore_venues\u001b[0m \u001b[1;33m=\u001b[0m \u001b[0mgetNearbyVenues\u001b[0m\u001b[1;33m(\u001b[0m\u001b[0mnames\u001b[0m\u001b[1;33m=\u001b[0m\u001b[0mdf\u001b[0m\u001b[1;33m[\u001b[0m\u001b[1;34m'Neighborhoods'\u001b[0m\u001b[1;33m]\u001b[0m\u001b[1;33m,\u001b[0m\u001b[0mlatitudes\u001b[0m\u001b[1;33m=\u001b[0m\u001b[0mdf\u001b[0m\u001b[1;33m[\u001b[0m\u001b[1;34m'Latitude'\u001b[0m\u001b[1;33m]\u001b[0m\u001b[1;33m,\u001b[0m\u001b[0mlongitudes\u001b[0m\u001b[1;33m=\u001b[0m\u001b[0mdf\u001b[0m\u001b[1;33m[\u001b[0m\u001b[1;34m'Longitude'\u001b[0m\u001b[1;33m]\u001b[0m\u001b[1;33m,\u001b[0m\u001b[0mboro\u001b[0m\u001b[1;33m=\u001b[0m\u001b[0mdf\u001b[0m\u001b[1;33m[\u001b[0m\u001b[1;34m'Borough'\u001b[0m\u001b[1;33m]\u001b[0m\u001b[1;33m)\u001b[0m\u001b[1;33m\u001b[0m\u001b[1;33m\u001b[0m\u001b[0m\n\u001b[0m",
      "\u001b[1;32m<ipython-input-20-c3d391c11e59>\u001b[0m in \u001b[0;36mgetNearbyVenues\u001b[1;34m(names, boro, latitudes, longitudes, radius)\u001b[0m\n\u001b[0;32m     15\u001b[0m \u001b[1;33m\u001b[0m\u001b[0m\n\u001b[0;32m     16\u001b[0m         \u001b[1;31m# make the GET request\u001b[0m\u001b[1;33m\u001b[0m\u001b[1;33m\u001b[0m\u001b[1;33m\u001b[0m\u001b[0m\n\u001b[1;32m---> 17\u001b[1;33m         \u001b[0mresults\u001b[0m \u001b[1;33m=\u001b[0m \u001b[0mrequests\u001b[0m\u001b[1;33m.\u001b[0m\u001b[0mget\u001b[0m\u001b[1;33m(\u001b[0m\u001b[0murl\u001b[0m\u001b[1;33m)\u001b[0m\u001b[1;33m.\u001b[0m\u001b[0mjson\u001b[0m\u001b[1;33m(\u001b[0m\u001b[1;33m)\u001b[0m\u001b[1;33m[\u001b[0m\u001b[1;34m\"response\"\u001b[0m\u001b[1;33m]\u001b[0m\u001b[1;33m[\u001b[0m\u001b[1;34m'groups'\u001b[0m\u001b[1;33m]\u001b[0m\u001b[1;33m[\u001b[0m\u001b[1;36m0\u001b[0m\u001b[1;33m]\u001b[0m\u001b[1;33m[\u001b[0m\u001b[1;34m'items'\u001b[0m\u001b[1;33m]\u001b[0m\u001b[1;33m\u001b[0m\u001b[1;33m\u001b[0m\u001b[0m\n\u001b[0m\u001b[0;32m     18\u001b[0m \u001b[1;33m\u001b[0m\u001b[0m\n\u001b[0;32m     19\u001b[0m         \u001b[1;31m# return only relevant information for each nearby venue\u001b[0m\u001b[1;33m\u001b[0m\u001b[1;33m\u001b[0m\u001b[1;33m\u001b[0m\u001b[0m\n",
      "\u001b[1;32m~\\Anaconda3\\lib\\site-packages\\requests\\api.py\u001b[0m in \u001b[0;36mget\u001b[1;34m(url, params, **kwargs)\u001b[0m\n\u001b[0;32m     73\u001b[0m \u001b[1;33m\u001b[0m\u001b[0m\n\u001b[0;32m     74\u001b[0m     \u001b[0mkwargs\u001b[0m\u001b[1;33m.\u001b[0m\u001b[0msetdefault\u001b[0m\u001b[1;33m(\u001b[0m\u001b[1;34m'allow_redirects'\u001b[0m\u001b[1;33m,\u001b[0m \u001b[1;32mTrue\u001b[0m\u001b[1;33m)\u001b[0m\u001b[1;33m\u001b[0m\u001b[1;33m\u001b[0m\u001b[0m\n\u001b[1;32m---> 75\u001b[1;33m     \u001b[1;32mreturn\u001b[0m \u001b[0mrequest\u001b[0m\u001b[1;33m(\u001b[0m\u001b[1;34m'get'\u001b[0m\u001b[1;33m,\u001b[0m \u001b[0murl\u001b[0m\u001b[1;33m,\u001b[0m \u001b[0mparams\u001b[0m\u001b[1;33m=\u001b[0m\u001b[0mparams\u001b[0m\u001b[1;33m,\u001b[0m \u001b[1;33m**\u001b[0m\u001b[0mkwargs\u001b[0m\u001b[1;33m)\u001b[0m\u001b[1;33m\u001b[0m\u001b[1;33m\u001b[0m\u001b[0m\n\u001b[0m\u001b[0;32m     76\u001b[0m \u001b[1;33m\u001b[0m\u001b[0m\n\u001b[0;32m     77\u001b[0m \u001b[1;33m\u001b[0m\u001b[0m\n",
      "\u001b[1;32m~\\Anaconda3\\lib\\site-packages\\requests\\api.py\u001b[0m in \u001b[0;36mrequest\u001b[1;34m(method, url, **kwargs)\u001b[0m\n\u001b[0;32m     58\u001b[0m     \u001b[1;31m# cases, and look like a memory leak in others.\u001b[0m\u001b[1;33m\u001b[0m\u001b[1;33m\u001b[0m\u001b[1;33m\u001b[0m\u001b[0m\n\u001b[0;32m     59\u001b[0m     \u001b[1;32mwith\u001b[0m \u001b[0msessions\u001b[0m\u001b[1;33m.\u001b[0m\u001b[0mSession\u001b[0m\u001b[1;33m(\u001b[0m\u001b[1;33m)\u001b[0m \u001b[1;32mas\u001b[0m \u001b[0msession\u001b[0m\u001b[1;33m:\u001b[0m\u001b[1;33m\u001b[0m\u001b[1;33m\u001b[0m\u001b[0m\n\u001b[1;32m---> 60\u001b[1;33m         \u001b[1;32mreturn\u001b[0m \u001b[0msession\u001b[0m\u001b[1;33m.\u001b[0m\u001b[0mrequest\u001b[0m\u001b[1;33m(\u001b[0m\u001b[0mmethod\u001b[0m\u001b[1;33m=\u001b[0m\u001b[0mmethod\u001b[0m\u001b[1;33m,\u001b[0m \u001b[0murl\u001b[0m\u001b[1;33m=\u001b[0m\u001b[0murl\u001b[0m\u001b[1;33m,\u001b[0m \u001b[1;33m**\u001b[0m\u001b[0mkwargs\u001b[0m\u001b[1;33m)\u001b[0m\u001b[1;33m\u001b[0m\u001b[1;33m\u001b[0m\u001b[0m\n\u001b[0m\u001b[0;32m     61\u001b[0m \u001b[1;33m\u001b[0m\u001b[0m\n\u001b[0;32m     62\u001b[0m \u001b[1;33m\u001b[0m\u001b[0m\n",
      "\u001b[1;32m~\\Anaconda3\\lib\\site-packages\\requests\\sessions.py\u001b[0m in \u001b[0;36mrequest\u001b[1;34m(self, method, url, params, data, headers, cookies, files, auth, timeout, allow_redirects, proxies, hooks, stream, verify, cert, json)\u001b[0m\n\u001b[0;32m    531\u001b[0m         }\n\u001b[0;32m    532\u001b[0m         \u001b[0msend_kwargs\u001b[0m\u001b[1;33m.\u001b[0m\u001b[0mupdate\u001b[0m\u001b[1;33m(\u001b[0m\u001b[0msettings\u001b[0m\u001b[1;33m)\u001b[0m\u001b[1;33m\u001b[0m\u001b[1;33m\u001b[0m\u001b[0m\n\u001b[1;32m--> 533\u001b[1;33m         \u001b[0mresp\u001b[0m \u001b[1;33m=\u001b[0m \u001b[0mself\u001b[0m\u001b[1;33m.\u001b[0m\u001b[0msend\u001b[0m\u001b[1;33m(\u001b[0m\u001b[0mprep\u001b[0m\u001b[1;33m,\u001b[0m \u001b[1;33m**\u001b[0m\u001b[0msend_kwargs\u001b[0m\u001b[1;33m)\u001b[0m\u001b[1;33m\u001b[0m\u001b[1;33m\u001b[0m\u001b[0m\n\u001b[0m\u001b[0;32m    534\u001b[0m \u001b[1;33m\u001b[0m\u001b[0m\n\u001b[0;32m    535\u001b[0m         \u001b[1;32mreturn\u001b[0m \u001b[0mresp\u001b[0m\u001b[1;33m\u001b[0m\u001b[1;33m\u001b[0m\u001b[0m\n",
      "\u001b[1;32m~\\Anaconda3\\lib\\site-packages\\requests\\sessions.py\u001b[0m in \u001b[0;36msend\u001b[1;34m(self, request, **kwargs)\u001b[0m\n\u001b[0;32m    644\u001b[0m \u001b[1;33m\u001b[0m\u001b[0m\n\u001b[0;32m    645\u001b[0m         \u001b[1;31m# Send the request\u001b[0m\u001b[1;33m\u001b[0m\u001b[1;33m\u001b[0m\u001b[1;33m\u001b[0m\u001b[0m\n\u001b[1;32m--> 646\u001b[1;33m         \u001b[0mr\u001b[0m \u001b[1;33m=\u001b[0m \u001b[0madapter\u001b[0m\u001b[1;33m.\u001b[0m\u001b[0msend\u001b[0m\u001b[1;33m(\u001b[0m\u001b[0mrequest\u001b[0m\u001b[1;33m,\u001b[0m \u001b[1;33m**\u001b[0m\u001b[0mkwargs\u001b[0m\u001b[1;33m)\u001b[0m\u001b[1;33m\u001b[0m\u001b[1;33m\u001b[0m\u001b[0m\n\u001b[0m\u001b[0;32m    647\u001b[0m \u001b[1;33m\u001b[0m\u001b[0m\n\u001b[0;32m    648\u001b[0m         \u001b[1;31m# Total elapsed time of the request (approximately)\u001b[0m\u001b[1;33m\u001b[0m\u001b[1;33m\u001b[0m\u001b[1;33m\u001b[0m\u001b[0m\n",
      "\u001b[1;32m~\\Anaconda3\\lib\\site-packages\\requests\\adapters.py\u001b[0m in \u001b[0;36msend\u001b[1;34m(self, request, stream, timeout, verify, cert, proxies)\u001b[0m\n\u001b[0;32m    512\u001b[0m             \u001b[1;32mif\u001b[0m \u001b[0misinstance\u001b[0m\u001b[1;33m(\u001b[0m\u001b[0me\u001b[0m\u001b[1;33m.\u001b[0m\u001b[0mreason\u001b[0m\u001b[1;33m,\u001b[0m \u001b[0m_SSLError\u001b[0m\u001b[1;33m)\u001b[0m\u001b[1;33m:\u001b[0m\u001b[1;33m\u001b[0m\u001b[1;33m\u001b[0m\u001b[0m\n\u001b[0;32m    513\u001b[0m                 \u001b[1;31m# This branch is for urllib3 v1.22 and later.\u001b[0m\u001b[1;33m\u001b[0m\u001b[1;33m\u001b[0m\u001b[1;33m\u001b[0m\u001b[0m\n\u001b[1;32m--> 514\u001b[1;33m                 \u001b[1;32mraise\u001b[0m \u001b[0mSSLError\u001b[0m\u001b[1;33m(\u001b[0m\u001b[0me\u001b[0m\u001b[1;33m,\u001b[0m \u001b[0mrequest\u001b[0m\u001b[1;33m=\u001b[0m\u001b[0mrequest\u001b[0m\u001b[1;33m)\u001b[0m\u001b[1;33m\u001b[0m\u001b[1;33m\u001b[0m\u001b[0m\n\u001b[0m\u001b[0;32m    515\u001b[0m \u001b[1;33m\u001b[0m\u001b[0m\n\u001b[0;32m    516\u001b[0m             \u001b[1;32mraise\u001b[0m \u001b[0mConnectionError\u001b[0m\u001b[1;33m(\u001b[0m\u001b[0me\u001b[0m\u001b[1;33m,\u001b[0m \u001b[0mrequest\u001b[0m\u001b[1;33m=\u001b[0m\u001b[0mrequest\u001b[0m\u001b[1;33m)\u001b[0m\u001b[1;33m\u001b[0m\u001b[1;33m\u001b[0m\u001b[0m\n",
      "\u001b[1;31mSSLError\u001b[0m: HTTPSConnectionPool(host='api.foursquare.com', port=443): Max retries exceeded with url: /v2/venues/explore?&client_id=0NRHSFQX5TLHOVREZ5PIFOYVTLOWKMRWFH1HJDG5AR21FW2R&client_secret=TRA3A35DS2EF3RHWXHSVDZLSCOOCF2QIRHW3DQ5VIXPDFIER&v=20180606&ll=13.0068,77.5813&radius=500&limit=150 (Caused by SSLError(SSLError(\"bad handshake: SysCallError(10054, 'WSAECONNRESET')\")))"
     ]
    }
   ],
   "source": [
    "bangalore_venues = getNearbyVenues(names=df['Neighborhoods'],latitudes=df['Latitude'],longitudes=df['Longitude'],boro=df['Borough'])"
   ]
  },
  {
   "cell_type": "code",
   "execution_count": null,
   "metadata": {},
   "outputs": [],
   "source": [
    "print(\"Total number of venues found in Bangalore are : \",bangalore_venues.shape[0])"
   ]
  },
  {
   "cell_type": "code",
   "execution_count": null,
   "metadata": {},
   "outputs": [],
   "source": [
    "bangalore_venues.head(5)"
   ]
  },
  {
   "cell_type": "code",
   "execution_count": null,
   "metadata": {},
   "outputs": [],
   "source": [
    "bangalore_venues.groupby('Venue Category').count()['Neighborhood'].sort_values(ascending=False).head(10)"
   ]
  },
  {
   "cell_type": "code",
   "execution_count": null,
   "metadata": {},
   "outputs": [],
   "source": [
    "print(\"Total number of unique categories in bangalore are : \",len(bangalore_venues['Venue Category'].unique()))"
   ]
  },
  {
   "cell_type": "markdown",
   "metadata": {},
   "source": [
    "### Getting number of venues per neighborhood"
   ]
  },
  {
   "cell_type": "code",
   "execution_count": null,
   "metadata": {},
   "outputs": [],
   "source": [
    "individual_bangalore_venue_count = bangalore_venues.groupby(['Borough','Neighborhood'])['Borough'].count().to_frame()"
   ]
  },
  {
   "cell_type": "code",
   "execution_count": null,
   "metadata": {},
   "outputs": [],
   "source": [
    "individual_bangalore_venue_count"
   ]
  },
  {
   "cell_type": "code",
   "execution_count": null,
   "metadata": {},
   "outputs": [],
   "source": [
    "individual_bangalore_venue_count.rename(columns={'Borough':'NumberOfVenues'},inplace=True)"
   ]
  },
  {
   "cell_type": "code",
   "execution_count": null,
   "metadata": {},
   "outputs": [],
   "source": [
    "individual_bangalore_venue_count.reset_index(inplace=True)"
   ]
  },
  {
   "cell_type": "code",
   "execution_count": null,
   "metadata": {},
   "outputs": [],
   "source": [
    "individual_bangalore_venue_count"
   ]
  },
  {
   "cell_type": "code",
   "execution_count": null,
   "metadata": {
    "scrolled": false
   },
   "outputs": [],
   "source": [
    "sns.set(rc={'figure.figsize':(11,16)})\n",
    "plot = sns.barplot(x='Neighborhood',y='NumberOfVenues',data=individual_bangalore_venue_count)\n",
    "plot.set_xticklabels(individual_bangalore_venue_count['Neighborhood'],rotation=90)"
   ]
  },
  {
   "cell_type": "markdown",
   "metadata": {},
   "source": [
    "From the above graph we can see that inderanagar has most number of venues and soo on..."
   ]
  },
  {
   "cell_type": "markdown",
   "metadata": {},
   "source": [
    "## Exploring Whitefield venues"
   ]
  },
  {
   "cell_type": "code",
   "execution_count": null,
   "metadata": {},
   "outputs": [],
   "source": [
    "bangalore_venues[bangalore_venues['Neighborhood']=='Whitefield']"
   ]
  },
  {
   "cell_type": "markdown",
   "metadata": {},
   "source": [
    "# One hot encoding for letting us to compare different venues based on some common scale\n"
   ]
  },
  {
   "cell_type": "code",
   "execution_count": null,
   "metadata": {},
   "outputs": [],
   "source": [
    "bangalore_venues_onehot = pd.get_dummies(bangalore_venues[['Venue Category']])"
   ]
  },
  {
   "cell_type": "code",
   "execution_count": null,
   "metadata": {},
   "outputs": [],
   "source": [
    "bangalore_venues_onehot"
   ]
  },
  {
   "cell_type": "code",
   "execution_count": null,
   "metadata": {
    "scrolled": false
   },
   "outputs": [],
   "source": [
    "bangalore_venues_onehot['Neighborhood'] = bangalore_venues['Neighborhood']\n",
    "bangalore_venues_grouped = bangalore_venues_onehot.groupby('Neighborhood').mean().reset_index()\n",
    "bangalore_venues_grouped"
   ]
  },
  {
   "cell_type": "code",
   "execution_count": null,
   "metadata": {},
   "outputs": [],
   "source": [
    "number_of_top_venues = 5"
   ]
  },
  {
   "cell_type": "code",
   "execution_count": null,
   "metadata": {
    "scrolled": false
   },
   "outputs": [],
   "source": [
    "for hood in bangalore_venues_grouped['Neighborhood']:\n",
    "    print('---------',hood,'---------')\n",
    "    temp = bangalore_venues_grouped[bangalore_venues_grouped['Neighborhood'] == hood].T.reset_index()\n",
    "    temp.columns = ['Venue','Frequency']\n",
    "    temp = temp.iloc[1:]\n",
    "    temp['Frequency'] = temp['Frequency'].astype(float)\n",
    "    temp = temp.round({'Frequency': 2})\n",
    "    print(temp.sort_values('Frequency', ascending=False).reset_index(drop=True).head(number_of_top_venues))\n",
    "    print('\\n')"
   ]
  },
  {
   "cell_type": "markdown",
   "metadata": {},
   "source": [
    "Frequency of each neighborhood and its top 5 venues can be known. This is very important is we can analyze top neighborhoods with most busy restaurants"
   ]
  },
  {
   "cell_type": "code",
   "execution_count": null,
   "metadata": {},
   "outputs": [],
   "source": [
    "def return_most_common_venues(row, number_of_top_venues):\n",
    "    row_categories = row.iloc[1:]\n",
    "    row_categories_sorted = row_categories.sort_values(ascending=False)\n",
    "    return row_categories_sorted.index.values[0:number_of_top_venues]"
   ]
  },
  {
   "cell_type": "code",
   "execution_count": null,
   "metadata": {},
   "outputs": [],
   "source": [
    "number_of_top_venues = 10\n",
    "\n",
    "indicators = ['st', 'nd', 'rd']\n",
    "\n",
    "# create columns according to number of top venues\n",
    "columns = ['Neighborhood']\n",
    "for ind in np.arange(number_of_top_venues):\n",
    "    try:\n",
    "        columns.append('{}{} Most Common Venue'.format(ind+1, indicators[ind]))\n",
    "    except:\n",
    "        columns.append('{}th Most Common Venue'.format(ind+1))\n",
    "\n",
    "# create a new dataframe\n",
    "neighborhoods_venues_sorted = pd.DataFrame(columns=columns)\n",
    "neighborhoods_venues_sorted['Neighborhood'] = bangalore_venues_grouped['Neighborhood']\n",
    "\n",
    "for ind in np.arange(bangalore_venues_grouped.shape[0]):\n",
    "    neighborhoods_venues_sorted.iloc[ind, 1:] = return_most_common_venues(bangalore_venues_grouped.iloc[ind, :], number_of_top_venues)\n",
    "\n",
    "neighborhoods_venues_sorted.head()"
   ]
  },
  {
   "cell_type": "code",
   "execution_count": null,
   "metadata": {},
   "outputs": [],
   "source": [
    "neighborhoods_venues_sorted.shape"
   ]
  },
  {
   "cell_type": "markdown",
   "metadata": {},
   "source": [
    "## Next challenge is to find the optimal k value for clustering and we do it using the elbow method"
   ]
  },
  {
   "cell_type": "code",
   "execution_count": null,
   "metadata": {
    "scrolled": false
   },
   "outputs": [],
   "source": [
    "sse = {}\n",
    "for k in range(1,15):\n",
    "    kmeans = KMeans(n_clusters=k,random_state=0)\n",
    "    kmeans.fit(bangalore_venues_grouped.drop('Neighborhood',axis=1))\n",
    "    bangalore_venues_grouped['Cluster'] = kmeans.labels_\n",
    "    sse[k] = kmeans.inertia_\n",
    "\n",
    "plt.figure()\n",
    "plt.plot(list(sse.keys()), list(sse.values()))\n",
    "plt.xlabel(\"Number of cluster\")\n",
    "plt.ylabel(\"SSE\")\n",
    "plt.show()"
   ]
  },
  {
   "cell_type": "markdown",
   "metadata": {},
   "source": [
    "### From the above graph, we can see the optimal value for cluster is 5."
   ]
  },
  {
   "cell_type": "code",
   "execution_count": null,
   "metadata": {},
   "outputs": [],
   "source": [
    "kmeans = KMeans(n_clusters=5,random_state=0)"
   ]
  },
  {
   "cell_type": "code",
   "execution_count": null,
   "metadata": {},
   "outputs": [],
   "source": [
    "kmeans.fit(bangalore_venues_grouped.drop('Neighborhood',axis=1))"
   ]
  },
  {
   "cell_type": "code",
   "execution_count": null,
   "metadata": {},
   "outputs": [],
   "source": [
    "bangalore_venues_grouped['Cluster'] = kmeans.labels_"
   ]
  },
  {
   "cell_type": "code",
   "execution_count": null,
   "metadata": {},
   "outputs": [],
   "source": [
    "bangalore_venues_grouped.groupby('Cluster')['Neighborhood'].count()"
   ]
  },
  {
   "cell_type": "code",
   "execution_count": null,
   "metadata": {},
   "outputs": [],
   "source": [
    "bangalore_venues_grouped.columns"
   ]
  },
  {
   "cell_type": "code",
   "execution_count": null,
   "metadata": {},
   "outputs": [],
   "source": [
    "neighborhoods_venues_sorted = neighborhoods_venues_sorted.merge(bangalore_venues_grouped,on='Neighborhood')"
   ]
  },
  {
   "cell_type": "code",
   "execution_count": null,
   "metadata": {},
   "outputs": [],
   "source": [
    "neighborhoods_venues_sorted.head(4)"
   ]
  },
  {
   "cell_type": "code",
   "execution_count": null,
   "metadata": {},
   "outputs": [],
   "source": [
    "neighborhoods_venues_sorted.columns\n",
    "neighborhoods_venues_sorted = neighborhoods_venues_sorted.merge(bangalore_venues,on='Neighborhood')"
   ]
  },
  {
   "cell_type": "code",
   "execution_count": null,
   "metadata": {},
   "outputs": [],
   "source": [
    "# create map\n",
    "map_clusters = folium.Map(location=[bangalore_latitude, bangalore_longitude], zoom_start=11)"
   ]
  },
  {
   "cell_type": "code",
   "execution_count": null,
   "metadata": {},
   "outputs": [],
   "source": [
    "# set color scheme for the clusters\n",
    "x = np.arange(6)\n",
    "ys = [i + x + (i*x)**2 for i in range(6)]\n",
    "colors_array = cm.rainbow(np.linspace(0, 1, len(ys)))\n",
    "rainbow = [colors.rgb2hex(i) for i in colors_array]\n",
    "\n",
    "# add markers to the map\n",
    "markers_colors = []\n",
    "for lat, lon, poi, cluster in zip(neighborhoods_venues_sorted['Neighborhood Latitude'], neighborhoods_venues_sorted['Neighborhood Longitude'], neighborhoods_venues_sorted['Neighborhood'], neighborhoods_venues_sorted['Cluster']):\n",
    "    label = folium.Popup(str(poi) + ' Cluster ' + str(cluster), parse_html=True)\n",
    "    folium.CircleMarker(\n",
    "        [lat, lon],\n",
    "        radius=5,\n",
    "        popup=label,\n",
    "        color=rainbow[cluster-1],\n",
    "        fill=True,\n",
    "        fill_color=rainbow[cluster-1],\n",
    "        fill_opacity=0.7).add_to(map_clusters)\n",
    "       "
   ]
  },
  {
   "cell_type": "code",
   "execution_count": null,
   "metadata": {},
   "outputs": [],
   "source": [
    "map_clusters"
   ]
  },
  {
   "cell_type": "markdown",
   "metadata": {},
   "source": [
    "## Finding similar locations based on user input (recommending location)\n",
    "#### We need to analyze factors such as population and Income to recommend."
   ]
  },
  {
   "cell_type": "code",
   "execution_count": null,
   "metadata": {},
   "outputs": [],
   "source": [
    "bangalore_income.head()"
   ]
  },
  {
   "cell_type": "code",
   "execution_count": null,
   "metadata": {},
   "outputs": [],
   "source": [
    "bangalore_population.head()"
   ]
  },
  {
   "cell_type": "code",
   "execution_count": null,
   "metadata": {},
   "outputs": [],
   "source": [
    "bangalore_population['Normalized_population'] = bangalore_population['Population']/bangalore_population['Population'].max(axis=0)\n",
    "bangalore_population.head()"
   ]
  },
  {
   "cell_type": "code",
   "execution_count": null,
   "metadata": {},
   "outputs": [],
   "source": [
    "bangalore_income['Normalized_income'] = bangalore_income['AverageIncome']/bangalore_income['AverageIncome'].max(axis=0)\n",
    "bangalore_income.head()"
   ]
  },
  {
   "cell_type": "code",
   "execution_count": null,
   "metadata": {},
   "outputs": [],
   "source": [
    "bangalore_venues_grouped.head(1)"
   ]
  },
  {
   "cell_type": "markdown",
   "metadata": {},
   "source": [
    "#### recommending Veg restaurants"
   ]
  },
  {
   "cell_type": "code",
   "execution_count": null,
   "metadata": {},
   "outputs": [],
   "source": [
    "bangalore_veg = bangalore_venues_onehot.groupby(['Neighborhood']).sum().reset_index()\n",
    "bangalore_veg.head()"
   ]
  },
  {
   "cell_type": "code",
   "execution_count": null,
   "metadata": {},
   "outputs": [],
   "source": [
    "bangalore_veg['Venue Category_Vegetarian / Vegan Restaurant']"
   ]
  },
  {
   "cell_type": "code",
   "execution_count": null,
   "metadata": {},
   "outputs": [],
   "source": [
    "bangalore_veg = bangalore_veg[['Neighborhood','Venue Category_Vegetarian / Vegan Restaurant']]"
   ]
  },
  {
   "cell_type": "code",
   "execution_count": null,
   "metadata": {},
   "outputs": [],
   "source": [
    "bangalore_veg.rename(columns={'Venue Category_Vegetarian / Vegan Restaurant':'NumberOfVegRestaurants'},inplace=True)"
   ]
  },
  {
   "cell_type": "code",
   "execution_count": null,
   "metadata": {},
   "outputs": [],
   "source": [
    "bangalore_veg.head()"
   ]
  },
  {
   "cell_type": "code",
   "execution_count": null,
   "metadata": {},
   "outputs": [],
   "source": [
    "bangalore_veg['NumberOfNonVeganrestaurants'] = 1-(bangalore_veg['NumberOfVegRestaurants']/bangalore_veg['NumberOfVegRestaurants'].max(axis=0))"
   ]
  },
  {
   "cell_type": "code",
   "execution_count": null,
   "metadata": {},
   "outputs": [],
   "source": [
    "bangalore_veg.head(10)"
   ]
  },
  {
   "cell_type": "code",
   "execution_count": null,
   "metadata": {},
   "outputs": [],
   "source": [
    "bangalore_veg.rename(columns={'Neighborhood':'Neighborhoods'},inplace=True)"
   ]
  },
  {
   "cell_type": "markdown",
   "metadata": {},
   "source": [
    "### Building a target neighborhood by providing a sample restaurant : say ' Whitefield '"
   ]
  },
  {
   "cell_type": "code",
   "execution_count": null,
   "metadata": {},
   "outputs": [],
   "source": [
    "target_cluster_dataframe = neighborhoods_venues_sorted.loc[neighborhoods_venues_sorted['Neighborhood']=='Whitefield']"
   ]
  },
  {
   "cell_type": "code",
   "execution_count": null,
   "metadata": {},
   "outputs": [],
   "source": [
    "target_cluster_dataframe.reset_index()"
   ]
  },
  {
   "cell_type": "code",
   "execution_count": null,
   "metadata": {},
   "outputs": [],
   "source": [
    "target_cluster = target_cluster_dataframe.iloc[0].at['Cluster']"
   ]
  },
  {
   "cell_type": "code",
   "execution_count": null,
   "metadata": {},
   "outputs": [],
   "source": [
    "target_cluster"
   ]
  },
  {
   "cell_type": "code",
   "execution_count": null,
   "metadata": {},
   "outputs": [],
   "source": [
    "print(\"The target cluster is : \",target_cluster)"
   ]
  },
  {
   "cell_type": "code",
   "execution_count": null,
   "metadata": {
    "scrolled": false
   },
   "outputs": [],
   "source": [
    "possible_neighborhoods = neighborhoods_venues_sorted[neighborhoods_venues_sorted['Cluster']==target_cluster]\n",
    "possible_neighborhoods.head()"
   ]
  },
  {
   "cell_type": "code",
   "execution_count": null,
   "metadata": {},
   "outputs": [],
   "source": [
    "print(\"There are {} neighborhoods which has similar characteristics to Whitefield.\".format(possible_neighborhoods.shape[0]))"
   ]
  },
  {
   "cell_type": "code",
   "execution_count": null,
   "metadata": {},
   "outputs": [],
   "source": [
    "possible_neighborhoods.reset_index().head()"
   ]
  },
  {
   "cell_type": "code",
   "execution_count": null,
   "metadata": {},
   "outputs": [],
   "source": [
    "possible_neighborhoods.rename(columns={'Neighborhood':'Neighborhoods'},inplace=True)"
   ]
  },
  {
   "cell_type": "markdown",
   "metadata": {},
   "source": [
    "### Now we need to create ranking by combining population and income factors as well?"
   ]
  },
  {
   "cell_type": "code",
   "execution_count": null,
   "metadata": {},
   "outputs": [],
   "source": [
    "possible_neighborhoods = possible_neighborhoods.merge(bangalore_population[['Neighborhoods','Population','Normalized_population']],on='Neighborhoods')\n",
    "possible_neighborhoods = possible_neighborhoods.merge(bangalore_income[['Neighborhoods','AverageIncome','Normalized_income']],on='Neighborhoods')\n",
    "possible_neighborhoods = possible_neighborhoods.merge(bangalore_veg[['Neighborhoods','NumberOfVegRestaurants','NumberOfNonVeganrestaurants']],on='Neighborhoods')"
   ]
  },
  {
   "cell_type": "code",
   "execution_count": null,
   "metadata": {},
   "outputs": [],
   "source": [
    "possible_neighborhoods.head()"
   ]
  },
  {
   "cell_type": "code",
   "execution_count": null,
   "metadata": {},
   "outputs": [],
   "source": [
    "possible_neighborhoods['Ranking'] = possible_neighborhoods['Normalized_population'] * 0.5 + possible_neighborhoods['Normalized_income'] * 0.35 + possible_neighborhoods['NumberOfNonVeganrestaurants'] * 0.1\n",
    "recommended_neighborhoods = possible_neighborhoods.sort_values(by='Ranking',ascending=False)\n",
    "recommended_neighborhoods.reset_index(inplace=True, drop=True)"
   ]
  },
  {
   "cell_type": "code",
   "execution_count": null,
   "metadata": {},
   "outputs": [],
   "source": [
    "recommended_neighborhoods.head()"
   ]
  },
  {
   "cell_type": "code",
   "execution_count": null,
   "metadata": {},
   "outputs": [],
   "source": [
    "top3 = recommended_neighborhoods.groupby(['Neighborhoods','1st Most Common Venue','2nd Most Common Venue','3rd Most Common Venue'])['Ranking'].unique()"
   ]
  },
  {
   "cell_type": "code",
   "execution_count": null,
   "metadata": {},
   "outputs": [],
   "source": [
    "top3_df = pd.DataFrame(top3).reset_index()"
   ]
  },
  {
   "cell_type": "code",
   "execution_count": null,
   "metadata": {},
   "outputs": [],
   "source": [
    "top3_df.head(3)"
   ]
  },
  {
   "cell_type": "markdown",
   "metadata": {},
   "source": [
    "#### Here, according the data, we see that 'Begur,Hulimavu and kamakshipalya' are top 3 neighborhoods to find similar food to whitefield restaurant's veg food !\n",
    "#### Here our model will recommend these neighborneeds and top 3 common venues to visit."
   ]
  },
  {
   "cell_type": "markdown",
   "metadata": {},
   "source": [
    "# Thank you for reviewing !"
   ]
  },
  {
   "cell_type": "code",
   "execution_count": null,
   "metadata": {},
   "outputs": [],
   "source": []
  }
 ],
 "metadata": {
  "kernelspec": {
   "display_name": "Python 3",
   "language": "python",
   "name": "python3"
  },
  "language_info": {
   "codemirror_mode": {
    "name": "ipython",
    "version": 3
   },
   "file_extension": ".py",
   "mimetype": "text/x-python",
   "name": "python",
   "nbconvert_exporter": "python",
   "pygments_lexer": "ipython3",
   "version": "3.7.4"
  }
 },
 "nbformat": 4,
 "nbformat_minor": 2
}
